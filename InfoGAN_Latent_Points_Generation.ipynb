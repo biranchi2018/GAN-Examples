{
  "nbformat": 4,
  "nbformat_minor": 0,
  "metadata": {
    "colab": {
      "name": "InfoGAN Latent Points Generation.ipynb",
      "provenance": [],
      "collapsed_sections": [],
      "authorship_tag": "ABX9TyO4HIz8Oginc0syiqHW01QB",
      "include_colab_link": true
    },
    "kernelspec": {
      "name": "python3",
      "display_name": "Python 3"
    }
  },
  "cells": [
    {
      "cell_type": "markdown",
      "metadata": {
        "id": "view-in-github",
        "colab_type": "text"
      },
      "source": [
        "<a href=\"https://colab.research.google.com/github/biranchi2018/GAN-Examples/blob/master/InfoGAN_Latent_Points_Generation.ipynb\" target=\"_parent\"><img src=\"https://colab.research.google.com/assets/colab-badge.svg\" alt=\"Open In Colab\"/></a>"
      ]
    },
    {
      "cell_type": "code",
      "metadata": {
        "id": "EctVEc5DSnSi",
        "colab_type": "code",
        "colab": {}
      },
      "source": [
        "import numpy as np\n",
        "from numpy import hstack\n",
        "from numpy.random import randn\n",
        "from numpy.random import randint\n",
        "from tensorflow.keras.utils import to_categorical"
      ],
      "execution_count": 0,
      "outputs": []
    },
    {
      "cell_type": "code",
      "metadata": {
        "id": "hkhv6mEoTv0s",
        "colab_type": "code",
        "colab": {}
      },
      "source": [
        ""
      ],
      "execution_count": 0,
      "outputs": []
    },
    {
      "cell_type": "code",
      "metadata": {
        "id": "OQOCduViTbQz",
        "colab_type": "code",
        "colab": {
          "base_uri": "https://localhost:8080/",
          "height": 52
        },
        "outputId": "6d5bd976-25bf-4cee-85d8-d37e810fa5e7"
      },
      "source": [
        "randn(10)"
      ],
      "execution_count": 18,
      "outputs": [
        {
          "output_type": "execute_result",
          "data": {
            "text/plain": [
              "array([ 0.47872265, -0.70333033, -2.29800978,  0.94215841,  2.09138846,\n",
              "        0.74047489, -1.41104412, -0.39485207, -1.12912853, -1.55466875])"
            ]
          },
          "metadata": {
            "tags": []
          },
          "execution_count": 18
        }
      ]
    },
    {
      "cell_type": "code",
      "metadata": {
        "id": "56aTUwloTwyk",
        "colab_type": "code",
        "colab": {}
      },
      "source": [
        ""
      ],
      "execution_count": 0,
      "outputs": []
    },
    {
      "cell_type": "code",
      "metadata": {
        "id": "L7fr3s9fTpi8",
        "colab_type": "code",
        "colab": {
          "base_uri": "https://localhost:8080/",
          "height": 34
        },
        "outputId": "2d3a6ecc-8a50-4d4a-a488-ede80e3691ce"
      },
      "source": [
        "randint(0, 5, 10)"
      ],
      "execution_count": 19,
      "outputs": [
        {
          "output_type": "execute_result",
          "data": {
            "text/plain": [
              "array([4, 2, 0, 1, 2, 0, 4, 3, 4, 2])"
            ]
          },
          "metadata": {
            "tags": []
          },
          "execution_count": 19
        }
      ]
    },
    {
      "cell_type": "code",
      "metadata": {
        "id": "qX-RFnyrTvQy",
        "colab_type": "code",
        "colab": {}
      },
      "source": [
        ""
      ],
      "execution_count": 0,
      "outputs": []
    },
    {
      "cell_type": "code",
      "metadata": {
        "id": "jyQlKegWUPpQ",
        "colab_type": "code",
        "colab": {
          "base_uri": "https://localhost:8080/",
          "height": 34
        },
        "outputId": "85eae639-79e2-476a-f47e-06c1af4234af"
      },
      "source": [
        "to_categorical(2, num_classes=3)"
      ],
      "execution_count": 28,
      "outputs": [
        {
          "output_type": "execute_result",
          "data": {
            "text/plain": [
              "array([0., 0., 1.], dtype=float32)"
            ]
          },
          "metadata": {
            "tags": []
          },
          "execution_count": 28
        }
      ]
    },
    {
      "cell_type": "code",
      "metadata": {
        "id": "h5KNy-9NUf4z",
        "colab_type": "code",
        "colab": {
          "base_uri": "https://localhost:8080/",
          "height": 34
        },
        "outputId": "48d77462-04c8-4811-d141-934a42a9401b"
      },
      "source": [
        "to_categorical(3, num_classes=5)"
      ],
      "execution_count": 29,
      "outputs": [
        {
          "output_type": "execute_result",
          "data": {
            "text/plain": [
              "array([0., 0., 0., 1., 0.], dtype=float32)"
            ]
          },
          "metadata": {
            "tags": []
          },
          "execution_count": 29
        }
      ]
    },
    {
      "cell_type": "code",
      "metadata": {
        "id": "SExcZ9_eUg9f",
        "colab_type": "code",
        "colab": {
          "base_uri": "https://localhost:8080/",
          "height": 34
        },
        "outputId": "e943c68a-aaee-45db-8814-f62b1e8de053"
      },
      "source": [
        "to_categorical(4, num_classes=10)"
      ],
      "execution_count": 30,
      "outputs": [
        {
          "output_type": "execute_result",
          "data": {
            "text/plain": [
              "array([0., 0., 0., 0., 1., 0., 0., 0., 0., 0.], dtype=float32)"
            ]
          },
          "metadata": {
            "tags": []
          },
          "execution_count": 30
        }
      ]
    },
    {
      "cell_type": "code",
      "metadata": {
        "id": "HbMEfEi-UmLH",
        "colab_type": "code",
        "colab": {}
      },
      "source": [
        ""
      ],
      "execution_count": 0,
      "outputs": []
    },
    {
      "cell_type": "code",
      "metadata": {
        "id": "Dt38O9P0UmOZ",
        "colab_type": "code",
        "colab": {
          "base_uri": "https://localhost:8080/",
          "height": 70
        },
        "outputId": "01ee34ed-1814-4cdd-b9c6-b5edc2a9b428"
      },
      "source": [
        "to_categorical([1,2,4], num_classes=5)"
      ],
      "execution_count": 23,
      "outputs": [
        {
          "output_type": "execute_result",
          "data": {
            "text/plain": [
              "array([[0., 1., 0., 0., 0.],\n",
              "       [0., 0., 1., 0., 0.],\n",
              "       [0., 0., 0., 0., 1.]], dtype=float32)"
            ]
          },
          "metadata": {
            "tags": []
          },
          "execution_count": 23
        }
      ]
    },
    {
      "cell_type": "code",
      "metadata": {
        "id": "KcQnoNTXUPso",
        "colab_type": "code",
        "colab": {}
      },
      "source": [
        ""
      ],
      "execution_count": 0,
      "outputs": []
    },
    {
      "cell_type": "code",
      "metadata": {
        "id": "7HDQAn6wSwxY",
        "colab_type": "code",
        "colab": {}
      },
      "source": [
        "def generate_latent_points(latent_dim, n_cat, n_samples):\n",
        "  z_latent = randn(latent_dim * n_samples)\n",
        "  z_latent = z_latent.reshape(n_samples, latent_dim)\n",
        "  print(f\"z_latent : {z_latent}\")\n",
        "  print(f\"z_latent.shape : {z_latent.shape}\")\n",
        "  print()\n",
        "\n",
        "  cat_codes = randint(0, n_cat, n_samples)\n",
        "  print(f\"cat_codes 1 : {cat_codes}\")\n",
        "  cat_codes = to_categorical(cat_codes, num_classes=n_cat)\n",
        "  print(f\"cat_codes 2 : {cat_codes}\")\n",
        "  print(f\"cat_codes 2 shape : {cat_codes.shape}\")\n",
        "  print()\n",
        "\n",
        "  z_input = hstack((z_latent, cat_codes))\n",
        "  print(f\"z_input : {z_input}\")\n",
        "  print(f\"z_input.shape : {z_input.shape}\")\n",
        "  print()\n",
        "\n",
        "  return [z_input, cat_codes]\n"
      ],
      "execution_count": 0,
      "outputs": []
    },
    {
      "cell_type": "code",
      "metadata": {
        "id": "ihU9ZvK2VMWL",
        "colab_type": "code",
        "colab": {
          "base_uri": "https://localhost:8080/",
          "height": 1000
        },
        "outputId": "1f6dbe11-077b-43f2-880a-2dbad5e77644"
      },
      "source": [
        "latent_dim = 3\n",
        "n_cat = 5\n",
        "n_samples = 10\n",
        "\n",
        "res = generate_latent_points(latent_dim, n_cat, n_samples)\n",
        "res"
      ],
      "execution_count": 27,
      "outputs": [
        {
          "output_type": "stream",
          "text": [
            "z_latent : [[-1.5502632   1.0697119  -0.56613822]\n",
            " [-0.97865478 -1.29747266 -3.02996928]\n",
            " [ 0.37352081  0.00553882  0.08623125]\n",
            " [-0.72115102 -0.21971724  0.68800595]\n",
            " [ 0.52197912  0.17394182 -0.05345667]\n",
            " [-0.52279281 -0.00496928  1.10734087]\n",
            " [ 1.15924646 -1.18683381 -0.12085399]\n",
            " [-1.03084897 -0.43948865  0.72350595]\n",
            " [-2.13523905  0.21595425 -0.47578485]\n",
            " [ 0.90188089 -1.12719666  0.10884608]]\n",
            "z_latent.shape : (10, 3)\n",
            "\n",
            "cat_codes 1 : [4 1 4 1 3 1 3 2 1 2]\n",
            "cat_codes 2 : [[0. 0. 0. 0. 1.]\n",
            " [0. 1. 0. 0. 0.]\n",
            " [0. 0. 0. 0. 1.]\n",
            " [0. 1. 0. 0. 0.]\n",
            " [0. 0. 0. 1. 0.]\n",
            " [0. 1. 0. 0. 0.]\n",
            " [0. 0. 0. 1. 0.]\n",
            " [0. 0. 1. 0. 0.]\n",
            " [0. 1. 0. 0. 0.]\n",
            " [0. 0. 1. 0. 0.]]\n",
            "cat_codes 2 shape : (10, 5)\n",
            "\n",
            "z_input : [[-1.5502632   1.0697119  -0.56613822  0.          0.          0.\n",
            "   0.          1.        ]\n",
            " [-0.97865478 -1.29747266 -3.02996928  0.          1.          0.\n",
            "   0.          0.        ]\n",
            " [ 0.37352081  0.00553882  0.08623125  0.          0.          0.\n",
            "   0.          1.        ]\n",
            " [-0.72115102 -0.21971724  0.68800595  0.          1.          0.\n",
            "   0.          0.        ]\n",
            " [ 0.52197912  0.17394182 -0.05345667  0.          0.          0.\n",
            "   1.          0.        ]\n",
            " [-0.52279281 -0.00496928  1.10734087  0.          1.          0.\n",
            "   0.          0.        ]\n",
            " [ 1.15924646 -1.18683381 -0.12085399  0.          0.          0.\n",
            "   1.          0.        ]\n",
            " [-1.03084897 -0.43948865  0.72350595  0.          0.          1.\n",
            "   0.          0.        ]\n",
            " [-2.13523905  0.21595425 -0.47578485  0.          1.          0.\n",
            "   0.          0.        ]\n",
            " [ 0.90188089 -1.12719666  0.10884608  0.          0.          1.\n",
            "   0.          0.        ]]\n",
            "z_input.shape : (10, 8)\n",
            "\n"
          ],
          "name": "stdout"
        },
        {
          "output_type": "execute_result",
          "data": {
            "text/plain": [
              "[array([[-1.5502632 ,  1.0697119 , -0.56613822,  0.        ,  0.        ,\n",
              "          0.        ,  0.        ,  1.        ],\n",
              "        [-0.97865478, -1.29747266, -3.02996928,  0.        ,  1.        ,\n",
              "          0.        ,  0.        ,  0.        ],\n",
              "        [ 0.37352081,  0.00553882,  0.08623125,  0.        ,  0.        ,\n",
              "          0.        ,  0.        ,  1.        ],\n",
              "        [-0.72115102, -0.21971724,  0.68800595,  0.        ,  1.        ,\n",
              "          0.        ,  0.        ,  0.        ],\n",
              "        [ 0.52197912,  0.17394182, -0.05345667,  0.        ,  0.        ,\n",
              "          0.        ,  1.        ,  0.        ],\n",
              "        [-0.52279281, -0.00496928,  1.10734087,  0.        ,  1.        ,\n",
              "          0.        ,  0.        ,  0.        ],\n",
              "        [ 1.15924646, -1.18683381, -0.12085399,  0.        ,  0.        ,\n",
              "          0.        ,  1.        ,  0.        ],\n",
              "        [-1.03084897, -0.43948865,  0.72350595,  0.        ,  0.        ,\n",
              "          1.        ,  0.        ,  0.        ],\n",
              "        [-2.13523905,  0.21595425, -0.47578485,  0.        ,  1.        ,\n",
              "          0.        ,  0.        ,  0.        ],\n",
              "        [ 0.90188089, -1.12719666,  0.10884608,  0.        ,  0.        ,\n",
              "          1.        ,  0.        ,  0.        ]]), array([[0., 0., 0., 0., 1.],\n",
              "        [0., 1., 0., 0., 0.],\n",
              "        [0., 0., 0., 0., 1.],\n",
              "        [0., 1., 0., 0., 0.],\n",
              "        [0., 0., 0., 1., 0.],\n",
              "        [0., 1., 0., 0., 0.],\n",
              "        [0., 0., 0., 1., 0.],\n",
              "        [0., 0., 1., 0., 0.],\n",
              "        [0., 1., 0., 0., 0.],\n",
              "        [0., 0., 1., 0., 0.]], dtype=float32)]"
            ]
          },
          "metadata": {
            "tags": []
          },
          "execution_count": 27
        }
      ]
    },
    {
      "cell_type": "code",
      "metadata": {
        "id": "tH6XE4AuVTAg",
        "colab_type": "code",
        "colab": {}
      },
      "source": [
        ""
      ],
      "execution_count": 0,
      "outputs": []
    },
    {
      "cell_type": "code",
      "metadata": {
        "id": "KUhAAlwLWuSs",
        "colab_type": "code",
        "colab": {}
      },
      "source": [
        ""
      ],
      "execution_count": 0,
      "outputs": []
    }
  ]
}