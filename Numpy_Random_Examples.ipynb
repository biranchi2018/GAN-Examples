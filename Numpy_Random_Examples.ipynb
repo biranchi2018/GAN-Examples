{
  "nbformat": 4,
  "nbformat_minor": 0,
  "metadata": {
    "colab": {
      "name": "Numpy Random Examples.ipynb",
      "provenance": [],
      "collapsed_sections": [],
      "authorship_tag": "ABX9TyNAFsXl6qPRJ3hlaYGaezPI",
      "include_colab_link": true
    },
    "kernelspec": {
      "name": "python3",
      "display_name": "Python 3"
    }
  },
  "cells": [
    {
      "cell_type": "markdown",
      "metadata": {
        "id": "view-in-github",
        "colab_type": "text"
      },
      "source": [
        "<a href=\"https://colab.research.google.com/github/biranchi2018/GAN-Examples/blob/master/Numpy_Random_Examples.ipynb\" target=\"_parent\"><img src=\"https://colab.research.google.com/assets/colab-badge.svg\" alt=\"Open In Colab\"/></a>"
      ]
    },
    {
      "cell_type": "code",
      "metadata": {
        "id": "AFcoDa-TYBHh",
        "colab_type": "code",
        "colab": {}
      },
      "source": [
        "import numpy as np"
      ],
      "execution_count": 0,
      "outputs": []
    },
    {
      "cell_type": "code",
      "metadata": {
        "id": "9-0po0mzZI-A",
        "colab_type": "code",
        "colab": {}
      },
      "source": [
        ""
      ],
      "execution_count": 0,
      "outputs": []
    },
    {
      "cell_type": "markdown",
      "metadata": {
        "id": "y5vDZIXzZJW1",
        "colab_type": "text"
      },
      "source": [
        "## np.random.rand()"
      ]
    },
    {
      "cell_type": "code",
      "metadata": {
        "id": "C-3ncRx1YE5h",
        "colab_type": "code",
        "colab": {
          "base_uri": "https://localhost:8080/",
          "height": 52
        },
        "outputId": "952234db-5d8c-4343-8d09-67328baae2e7"
      },
      "source": [
        "np.random.rand(2,3)"
      ],
      "execution_count": 2,
      "outputs": [
        {
          "output_type": "execute_result",
          "data": {
            "text/plain": [
              "array([[0.20834618, 0.8298083 , 0.88923938],\n",
              "       [0.00303549, 0.24503889, 0.04027847]])"
            ]
          },
          "metadata": {
            "tags": []
          },
          "execution_count": 2
        }
      ]
    },
    {
      "cell_type": "code",
      "metadata": {
        "id": "6HYfXASpYy7w",
        "colab_type": "code",
        "colab": {}
      },
      "source": [
        ""
      ],
      "execution_count": 0,
      "outputs": []
    },
    {
      "cell_type": "markdown",
      "metadata": {
        "id": "x1i3NU5rZF8Z",
        "colab_type": "text"
      },
      "source": [
        "## np.random.randint()"
      ]
    },
    {
      "cell_type": "code",
      "metadata": {
        "id": "pZBbA-VcYGbW",
        "colab_type": "code",
        "colab": {
          "base_uri": "https://localhost:8080/",
          "height": 34
        },
        "outputId": "04fb8d4e-a59b-4c02-f646-764433e33160"
      },
      "source": [
        "np.random.randint(2, size=10)"
      ],
      "execution_count": 3,
      "outputs": [
        {
          "output_type": "execute_result",
          "data": {
            "text/plain": [
              "array([1, 1, 1, 1, 0, 0, 0, 0, 0, 1])"
            ]
          },
          "metadata": {
            "tags": []
          },
          "execution_count": 3
        }
      ]
    },
    {
      "cell_type": "code",
      "metadata": {
        "id": "IMp6QObMYSdp",
        "colab_type": "code",
        "colab": {
          "base_uri": "https://localhost:8080/",
          "height": 52
        },
        "outputId": "be789d93-5d3c-42b4-ca86-647d400bb48f"
      },
      "source": [
        "np.random.randint(5, size=(2, 4))"
      ],
      "execution_count": 4,
      "outputs": [
        {
          "output_type": "execute_result",
          "data": {
            "text/plain": [
              "array([[4, 4, 0, 1],\n",
              "       [3, 1, 4, 3]])"
            ]
          },
          "metadata": {
            "tags": []
          },
          "execution_count": 4
        }
      ]
    },
    {
      "cell_type": "code",
      "metadata": {
        "id": "69NwK1ugYx-w",
        "colab_type": "code",
        "colab": {}
      },
      "source": [
        ""
      ],
      "execution_count": 0,
      "outputs": []
    },
    {
      "cell_type": "markdown",
      "metadata": {
        "id": "XDT7BS-SZBL0",
        "colab_type": "text"
      },
      "source": [
        "## np.random.randn()"
      ]
    },
    {
      "cell_type": "code",
      "metadata": {
        "id": "9fZYydLZYWWh",
        "colab_type": "code",
        "colab": {
          "base_uri": "https://localhost:8080/",
          "height": 34
        },
        "outputId": "60bf01c5-ae41-4b67-d8ae-00d81f4a96a4"
      },
      "source": [
        "np.random.randn()"
      ],
      "execution_count": 6,
      "outputs": [
        {
          "output_type": "execute_result",
          "data": {
            "text/plain": [
              "1.1466396302202666"
            ]
          },
          "metadata": {
            "tags": []
          },
          "execution_count": 6
        }
      ]
    },
    {
      "cell_type": "code",
      "metadata": {
        "id": "Nx-xqXBMY0mP",
        "colab_type": "code",
        "colab": {
          "base_uri": "https://localhost:8080/",
          "height": 52
        },
        "outputId": "fe647352-85a9-4411-f8cb-6071255a9206"
      },
      "source": [
        "np.random.randn(10)"
      ],
      "execution_count": 7,
      "outputs": [
        {
          "output_type": "execute_result",
          "data": {
            "text/plain": [
              "array([-0.51611979, -0.64984341, -0.2436996 ,  2.03495572, -0.39989393,\n",
              "       -0.0573103 , -0.77814435,  1.4475503 , -0.02372563,  0.0554169 ])"
            ]
          },
          "metadata": {
            "tags": []
          },
          "execution_count": 7
        }
      ]
    },
    {
      "cell_type": "code",
      "metadata": {
        "id": "P9IaCZnKZwVW",
        "colab_type": "code",
        "colab": {
          "base_uri": "https://localhost:8080/",
          "height": 52
        },
        "outputId": "8b658dc7-7e0f-459b-e9fd-7453f071dabf"
      },
      "source": [
        "np.random.randn(2,4)"
      ],
      "execution_count": 11,
      "outputs": [
        {
          "output_type": "execute_result",
          "data": {
            "text/plain": [
              "array([[-1.35087498,  0.72463598, -1.30786728,  0.41531134],\n",
              "       [ 0.14395481,  1.38525168, -0.50627384,  0.81525889]])"
            ]
          },
          "metadata": {
            "tags": []
          },
          "execution_count": 11
        }
      ]
    },
    {
      "cell_type": "code",
      "metadata": {
        "id": "mj4O0K2fZwnI",
        "colab_type": "code",
        "colab": {}
      },
      "source": [
        ""
      ],
      "execution_count": 0,
      "outputs": []
    },
    {
      "cell_type": "code",
      "metadata": {
        "id": "bZOt0bDDY6e5",
        "colab_type": "code",
        "colab": {}
      },
      "source": [
        ""
      ],
      "execution_count": 0,
      "outputs": []
    },
    {
      "cell_type": "markdown",
      "metadata": {
        "id": "nlcugPtAZUFZ",
        "colab_type": "text"
      },
      "source": [
        "## np.random.random()"
      ]
    },
    {
      "cell_type": "code",
      "metadata": {
        "id": "8vLh86ydY_yy",
        "colab_type": "code",
        "colab": {
          "base_uri": "https://localhost:8080/",
          "height": 34
        },
        "outputId": "0c692f43-2f17-4487-dd21-3e019dca7a53"
      },
      "source": [
        "np.random.random()"
      ],
      "execution_count": 9,
      "outputs": [
        {
          "output_type": "execute_result",
          "data": {
            "text/plain": [
              "0.033151212867141844"
            ]
          },
          "metadata": {
            "tags": []
          },
          "execution_count": 9
        }
      ]
    },
    {
      "cell_type": "code",
      "metadata": {
        "id": "a7gBeUCgY_2E",
        "colab_type": "code",
        "colab": {
          "base_uri": "https://localhost:8080/",
          "height": 52
        },
        "outputId": "55a983dd-c080-4ae3-c792-044f03a71ec4"
      },
      "source": [
        "np.random.random(10)"
      ],
      "execution_count": 10,
      "outputs": [
        {
          "output_type": "execute_result",
          "data": {
            "text/plain": [
              "array([0.10204965, 0.13285584, 0.04365701, 0.18526555, 0.12830414,\n",
              "       0.92079558, 0.00437568, 0.2986847 , 0.64630114, 0.0502897 ])"
            ]
          },
          "metadata": {
            "tags": []
          },
          "execution_count": 10
        }
      ]
    },
    {
      "cell_type": "code",
      "metadata": {
        "id": "c78Y6soHY_6a",
        "colab_type": "code",
        "colab": {}
      },
      "source": [
        ""
      ],
      "execution_count": 0,
      "outputs": []
    },
    {
      "cell_type": "code",
      "metadata": {
        "id": "ynWVBaM4Y_9B",
        "colab_type": "code",
        "colab": {}
      },
      "source": [
        ""
      ],
      "execution_count": 0,
      "outputs": []
    },
    {
      "cell_type": "markdown",
      "metadata": {
        "id": "5kTSnfjUq_mQ",
        "colab_type": "text"
      },
      "source": [
        "## np.random.uniform()"
      ]
    },
    {
      "cell_type": "code",
      "metadata": {
        "id": "IW31qog8ZAAM",
        "colab_type": "code",
        "colab": {
          "base_uri": "https://localhost:8080/",
          "height": 52
        },
        "outputId": "79cf0db3-96c2-42c2-86c5-301aca04ca12"
      },
      "source": [
        "np.random.uniform(-1,0,10)"
      ],
      "execution_count": 12,
      "outputs": [
        {
          "output_type": "execute_result",
          "data": {
            "text/plain": [
              "array([-0.75829766, -0.65317797, -0.54024525, -0.47801858, -0.25121814,\n",
              "       -0.59445174, -0.32798031, -0.2345569 , -0.80991428, -0.53212396])"
            ]
          },
          "metadata": {
            "tags": []
          },
          "execution_count": 12
        }
      ]
    },
    {
      "cell_type": "code",
      "metadata": {
        "id": "my3AI-OfrCn0",
        "colab_type": "code",
        "colab": {
          "base_uri": "https://localhost:8080/",
          "height": 87
        },
        "outputId": "e0034a71-c6f3-4b8e-ef2f-0cc4865d26af"
      },
      "source": [
        "np.random.uniform(2,6, 20)"
      ],
      "execution_count": 17,
      "outputs": [
        {
          "output_type": "execute_result",
          "data": {
            "text/plain": [
              "array([3.78101896, 5.40123573, 5.52673127, 3.61979044, 2.0289945 ,\n",
              "       2.18054617, 2.25586661, 5.765981  , 5.49992522, 2.84924954,\n",
              "       2.98594223, 5.2745376 , 2.39422534, 3.40092313, 4.41528841,\n",
              "       2.21020611, 5.65377855, 2.40679451, 4.70655818, 4.16687239])"
            ]
          },
          "metadata": {
            "tags": []
          },
          "execution_count": 17
        }
      ]
    },
    {
      "cell_type": "code",
      "metadata": {
        "id": "17sN4qvQrF8K",
        "colab_type": "code",
        "colab": {}
      },
      "source": [
        ""
      ],
      "execution_count": 0,
      "outputs": []
    }
  ]
}